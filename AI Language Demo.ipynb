{
 "cells": [
  {
   "cell_type": "code",
   "execution_count": 2,
   "id": "4d058605",
   "metadata": {},
   "outputs": [
    {
     "name": "stdout",
     "output_type": "stream",
     "text": [
      "Sentiment: positive\n",
      "Sentiment: positive\n"
     ]
    }
   ],
   "source": [
    "from azure.ai.textanalytics import TextAnalyticsClient\n",
    "from azure.core.credentials import AzureKeyCredential\n",
    "\n",
    "key = \"d506045004374dafa6db91bb707e9c5b\"\n",
    "endpoint = \"https://languagegroupdem.cognitiveservices.azure.com/\"\n",
    "\n",
    "client = TextAnalyticsClient(endpoint=endpoint, credential=AzureKeyCredential(key))\n",
    "\n",
    "documents = [\"I love Azure AI Language service!\", \"It's amazing.\"]\n",
    "result = client.analyze_sentiment(documents)\n",
    "\n",
    "for doc in result:\n",
    "    print(\"Sentiment:\", doc.sentiment)\n"
   ]
  },
  {
   "cell_type": "code",
   "execution_count": 5,
   "id": "54b0ad1d",
   "metadata": {},
   "outputs": [
    {
     "name": "stdout",
     "output_type": "stream",
     "text": [
      "Sentiment: negative\n",
      "Sentiment: positive\n"
     ]
    }
   ],
   "source": [
    "from azure.ai.textanalytics import TextAnalyticsClient\n",
    "from azure.core.credentials import AzureKeyCredential\n",
    "\n",
    "key = \"b5a9d6c9e8de44d5894884a337069c5e\"\n",
    "endpoint = \"https://languagedab106testdemo.cognitiveservices.azure.com/\"\n",
    "\n",
    "client = TextAnalyticsClient(endpoint=endpoint, credential=AzureKeyCredential(key))\n",
    "\n",
    "documents = [\"I hate Azure AI Language service!\", \"It's good.\"]\n",
    "result = client.analyze_sentiment(documents)\n",
    "\n",
    "for doc in result:\n",
    "    print(\"Sentiment:\", doc.sentiment)\n"
   ]
  },
  {
   "cell_type": "code",
   "execution_count": null,
   "id": "5a001aaa",
   "metadata": {},
   "outputs": [],
   "source": []
  }
 ],
 "metadata": {
  "kernelspec": {
   "display_name": "Python 3 (ipykernel)",
   "language": "python",
   "name": "python3"
  },
  "language_info": {
   "codemirror_mode": {
    "name": "ipython",
    "version": 3
   },
   "file_extension": ".py",
   "mimetype": "text/x-python",
   "name": "python",
   "nbconvert_exporter": "python",
   "pygments_lexer": "ipython3",
   "version": "3.8.4"
  }
 },
 "nbformat": 4,
 "nbformat_minor": 5
}
